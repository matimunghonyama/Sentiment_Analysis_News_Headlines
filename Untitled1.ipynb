{
 "cells": [
  {
   "cell_type": "code",
   "execution_count": 3,
   "id": "ca6594de-20e2-44e3-a179-a1e9aa55bbcd",
   "metadata": {},
   "outputs": [
    {
     "ename": "ModuleNotFoundError",
     "evalue": "No module named 'sentiment_analyzer'",
     "output_type": "error",
     "traceback": [
      "\u001b[1;31m---------------------------------------------------------------------------\u001b[0m",
      "\u001b[1;31mModuleNotFoundError\u001b[0m                       Traceback (most recent call last)",
      "Cell \u001b[1;32mIn[3], line 1\u001b[0m\n\u001b[1;32m----> 1\u001b[0m \u001b[38;5;28;01mfrom\u001b[39;00m \u001b[38;5;21;01msentiment_analyzer\u001b[39;00m \u001b[38;5;28;01mimport\u001b[39;00m SentimentAnalyzer\n\u001b[0;32m      2\u001b[0m \u001b[38;5;28;01mfrom\u001b[39;00m \u001b[38;5;21;01maspect_analyzer\u001b[39;00m \u001b[38;5;28;01mimport\u001b[39;00m AspectAnalyzer\n\u001b[0;32m      4\u001b[0m \u001b[38;5;28;01mclass\u001b[39;00m \u001b[38;5;21;01mNewsSentimentChatbot\u001b[39;00m:\n",
      "\u001b[1;31mModuleNotFoundError\u001b[0m: No module named 'sentiment_analyzer'"
     ]
    }
   ],
   "source": [
    "from sentiment_analyzer import SentimentAnalyzer\n",
    "from aspect_analyzer import AspectAnalyzer\n",
    "\n",
    "class NewsSentimentChatbot:\n",
    "    def __init__(self):\n",
    "        self.sentiment_analyzer = SentimentAnalyzer()\n",
    "        self.aspect_analyzer = AspectAnalyzer()\n",
    "        \n",
    "        \n",
    "        import pandas as pd\n",
    "        df = pd.read_csv('headlines_for_labeling.csv')\n",
    "        self.sentiment_analyzer.train(df)\n",
    "    \n",
    "    def analyze_headline(self, headline):\n",
    "        \"\"\"Analyze a headline and generate a response\"\"\"\n",
    "        \n",
    "        overall_sentiment = self.sentiment_analyzer.predict_sentiment(headline)\n",
    "        \n",
    "       \n",
    "        aspect_results = self.aspect_analyzer.analyze_aspects(headline)\n",
    "        \n",
    "        \n",
    "        response = self._generate_response(headline, overall_sentiment, aspect_results)\n",
    "        return response\n",
    "    \n",
    "    def _generate_response(self, headline, overall_sentiment, aspect_results):\n",
    "        \"\"\"Generate a natural language response based on analysis results\"\"\"\n",
    "        response = f\"I've analyzed the headline: '{headline}'\\n\\n\"\n",
    "        \n",
    "        sentiment_responses = {\n",
    "            'positive': \"This is positive news! \",\n",
    "            'negative': \"This appears to be concerning news. \",\n",
    "            'neutral': \"This seems to be neutral news. \"\n",
    "        }\n",
    "        response += sentiment_responses.get(overall_sentiment, \"\") + \"\\n\\n\"\n",
    "        \n",
    "        \n",
    "        response += \"Here's a breakdown by different aspects:\\n\"\n",
    "        for aspect, sentiment in aspect_results.items():\n",
    "            if aspect != 'headline' and sentiment != 'neutral':\n",
    "                response += f\"- {aspect.capitalize()}: {sentiment}\\n\"\n",
    "        \n",
    "        return response\n",
    "    \n",
    "    def start_interactive_session(self):\n",
    "        \"\"\"Start an interactive chat session\"\"\"\n",
    "        print(\"News Sentiment Chatbot\")\n",
    "        print(\"Enter a news headline to analyze (or 'quit' to exit)\")\n",
    "        \n",
    "        while True:\n",
    "            headline = input(\"\\nEnter headline: \").strip()\n",
    "            if headline.lower() == 'quit':\n",
    "                break\n",
    "            \n",
    "            response = self.analyze_headline(headline)\n",
    "            print(\"\\nAnalysis:\")\n",
    "            print(response)\n",
    "\n",
    "def main():\n",
    "    \n",
    "    chatbot = NewsSentimentChatbot()\n",
    "    \n",
    "    \n",
    "    test_headline = \"South Africa's economy shows signs of recovery while infrastructure challenges persist\"\n",
    "    print(\"Demo analysis:\")\n",
    "    response = chatbot.analyze_headline(test_headline)\n",
    "    print(response)\n",
    "    \n",
    "    \n",
    "    print(\"\\nStarting interactive session...\")\n",
    "    chatbot.start_interactive_session()\n",
    "\n",
    "if __name__ == \"__main__\":\n",
    "    main()"
   ]
  },
  {
   "cell_type": "code",
   "execution_count": null,
   "id": "c17e2d54-24e5-493e-b065-3bd1b870b66b",
   "metadata": {},
   "outputs": [],
   "source": []
  }
 ],
 "metadata": {
  "kernelspec": {
   "display_name": "Python 3 (ipykernel)",
   "language": "python",
   "name": "python3"
  },
  "language_info": {
   "codemirror_mode": {
    "name": "ipython",
    "version": 3
   },
   "file_extension": ".py",
   "mimetype": "text/x-python",
   "name": "python",
   "nbconvert_exporter": "python",
   "pygments_lexer": "ipython3",
   "version": "3.12.7"
  }
 },
 "nbformat": 4,
 "nbformat_minor": 5
}
